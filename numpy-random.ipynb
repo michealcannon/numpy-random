{
 "cells": [
  {
   "cell_type": "markdown",
   "metadata": {},
   "source": [
    "# The numpy.random package"
   ]
  },
  {
   "cell_type": "markdown",
   "metadata": {},
   "source": [
    "## 1. Introduction to the package"
   ]
  },
  {
   "cell_type": "markdown",
   "metadata": {},
   "source": [
    "Numpy.random is a sub-package of numpy. It is used to generate pseudo-random numbers for use in simulations. \n",
    "Pseudo-random numbers are computer generated numbers that have properties that [approximate the properties of random numbers.](https://www.random.org/randomness/)"
   ]
  },
  {
   "cell_type": "markdown",
   "metadata": {},
   "source": [
    "## 2. Simple Random Data and Permutations"
   ]
  },
  {
   "cell_type": "markdown",
   "metadata": {},
   "source": [
    "### Simple Random Data"
   ]
  },
  {
   "cell_type": "markdown",
   "metadata": {},
   "source": [
    "Some simple functions in numpy.random return simple random data where all [floating point](https://www.geeksforgeeks.org/python-float-type-and-its-methods/) numbers between 0 and 1 (where 1 is excluded) are equally likely to be returned. THe rand() function, for example, will populate an array of your choosing with such numbers.\n",
    "\n",
    "Here's and example of a 3 x 4 array: "
   ]
  },
  {
   "cell_type": "code",
   "execution_count": 2,
   "metadata": {},
   "outputs": [
    {
     "data": {
      "text/plain": [
       "array([[0.10970468, 0.89647087, 0.64225601, 0.73669549],\n",
       "       [0.1274835 , 0.35639683, 0.53694048, 0.92064319],\n",
       "       [0.65897662, 0.23370229, 0.46586231, 0.13754468]])"
      ]
     },
     "execution_count": 2,
     "metadata": {},
     "output_type": "execute_result"
    }
   ],
   "source": [
    "import numpy as np ## import numpy package\n",
    "np.random.rand(3,4) ## generate 3 arrays each containing 4 random floats between 0 (inclusive) and 1(exclusive)"
   ]
  },
  {
   "cell_type": "markdown",
   "metadata": {},
   "source": [
    "The randint() function on the other hand will return random integers in a specified interval from low(inclusive) to high (exclusive). The shape of the array can also be specified. \n",
    "\n",
    "Here's an example of a 2 x 6 array with values between 10 and 19 (inclusive)."
   ]
  },
  {
   "cell_type": "code",
   "execution_count": 1,
   "metadata": {},
   "outputs": [
    {
     "data": {
      "text/plain": [
       "array([[10, 15, 17, 13, 19, 11],\n",
       "       [14, 14, 18, 19, 11, 14]])"
      ]
     },
     "execution_count": 1,
     "metadata": {},
     "output_type": "execute_result"
    }
   ],
   "source": [
    "import numpy as np\n",
    "np.random.randint(10,20, size = (2,6)) ## generate 2 arrays each containing 6 random integers between 10 (inclusive) and 20 (exclusive)"
   ]
  },
  {
   "cell_type": "markdown",
   "metadata": {},
   "source": [
    "### Permutations"
   ]
  },
  {
   "cell_type": "markdown",
   "metadata": {},
   "source": [
    "There are two functions that randomly shuffle the contents of an array in a sinilar fashion.\n",
    "\n",
    "The \"shuffle()\" function shuffles the contents of an array as follows:"
   ]
  },
  {
   "cell_type": "code",
   "execution_count": 3,
   "metadata": {},
   "outputs": [
    {
     "data": {
      "text/plain": [
       "[1, 3, 6, 8, 4, 9, 2, 7, 5]"
      ]
     },
     "execution_count": 3,
     "metadata": {},
     "output_type": "execute_result"
    }
   ],
   "source": [
    "import numpy as np\n",
    "arr = [1,2,3,4,5,6,7,8,9] ## create array containing integers sequenced 1-9 and assign to variable arr\n",
    "np.random.shuffle(arr) ## shuffle contents of arr\n",
    "arr ## display arr"
   ]
  },
  {
   "cell_type": "markdown",
   "metadata": {},
   "source": [
    "If an array contains a list of sub-arrays, only the list will be shuffled, not the contents \n",
    "of each individual array i.e. the first dimension of any multi-dimensional array will be shuffled."
   ]
  },
  {
   "cell_type": "code",
   "execution_count": 5,
   "metadata": {},
   "outputs": [
    {
     "data": {
      "text/plain": [
       "[[4, 5, 6], [7, 8, 9], [1, 2, 3]]"
      ]
     },
     "execution_count": 5,
     "metadata": {},
     "output_type": "execute_result"
    }
   ],
   "source": [
    "import numpy as np \n",
    "arr = [[1,2,3], [4,5,6], [7,8,9]] ## create 2-dimensional array and assign to variable arr\n",
    "np.random.shuffle(arr) ## shuffle contents of 1st dimension of arr\n",
    "arr  ## display shuffled array"
   ]
  },
  {
   "cell_type": "markdown",
   "metadata": {},
   "source": [
    "The \"permutation()\" function returns a shuffled copy of the array. The \"shuffle()\" function, however, changes the state of the array that is passed as an argument. We can see how \"permutation()\" differs from \"shuffle()\" in the next 2 pieces of code.  "
   ]
  },
  {
   "cell_type": "code",
   "execution_count": 6,
   "metadata": {},
   "outputs": [
    {
     "data": {
      "text/plain": [
       "array([[7, 8, 9],\n",
       "       [1, 2, 3],\n",
       "       [4, 5, 6]])"
      ]
     },
     "execution_count": 6,
     "metadata": {},
     "output_type": "execute_result"
    }
   ],
   "source": [
    "import numpy as np \n",
    "arr = [[1,2,3], [4,5,6], [7,8,9]] ## create 2-dimensional array and assign to variable arr\n",
    "np.random.permutation(arr) ## display shuffled copy of arr\n"
   ]
  },
  {
   "cell_type": "code",
   "execution_count": 7,
   "metadata": {},
   "outputs": [
    {
     "data": {
      "text/plain": [
       "[[1, 2, 3], [4, 5, 6], [7, 8, 9]]"
      ]
     },
     "execution_count": 7,
     "metadata": {},
     "output_type": "execute_result"
    }
   ],
   "source": [
    "import numpy as np \n",
    "arr = [[1,2,3], [4,5,6], [7,8,9]] ## create 2-dimensional array and assign to variable arr\n",
    "np.random.permutation(arr) ## make shuffled copy of arr\n",
    "arr  ## display unshuffled original array"
   ]
  },
  {
   "cell_type": "markdown",
   "metadata": {},
   "source": [
    "## 3. Five \"Distributions\" Functions"
   ]
  },
  {
   "cell_type": "markdown",
   "metadata": {},
   "source": []
  },
  {
   "cell_type": "markdown",
   "metadata": {},
   "source": [
    "### Binomial Distribution"
   ]
  },
  {
   "cell_type": "markdown",
   "metadata": {},
   "source": [
    "A binomial experiment is an experiment that consists of a number of repeated trials that satisfy the following conditions;\n",
    "* There are only two possible outcomes, one of which is typically called the succesful outcome.\n",
    "* The probabilty of success(denoted by p) is the same for each trial.\n",
    "* The outcome of any one trial is not affected by the outcome of any others.\n",
    "An example of a binomial experiment is a coin flip; In this case p = 1/2 or 0.5.\n",
    "\n",
    "A binomial random variable is the number of successful outcomes in a given number of trials of a binomial experiment.  \n",
    "A binomial distribution is the probability distribution of a binomial random variable."
   ]
  },
  {
   "cell_type": "markdown",
   "metadata": {},
   "source": [
    "The binomial function in numpy.random draws samples from a binomial distribution.\n",
    "The following code simulates 10 coin tosses, where a successful outcome is obtaining a \"heads\" (or tails!)"
   ]
  },
  {
   "cell_type": "code",
   "execution_count": 4,
   "metadata": {},
   "outputs": [
    {
     "data": {
      "image/png": "[encoded data removed]",
      "text/plain": [
       "<Figure size 432x288 with 1 Axes>"
      ]
     },
     "metadata": {
      "needs_background": "light"
     },
     "output_type": "display_data"
    }
   ],
   "source": [
    "import numpy as np\n",
    "import matplotlib.pyplot as plt # import pyplot package from matplotlib as plt\n",
    "n, p = 10, .5  # n = number of trials, p = probability of each trial\n",
    "s = np.random.binomial(n, p,) # result of flipping a coin 10 times assigned to variable s\n",
    "plt.hist(s) # plot a histogram of s\n",
    "plt.show() # show plot"
   ]
  },
  {
   "cell_type": "markdown",
   "metadata": {},
   "source": [
    "In this case the trial had 6 successful outcomes."
   ]
  },
  {
   "cell_type": "markdown",
   "metadata": {},
   "source": [
    "The following code simulates 5 sets of 10 coin tosses "
   ]
  },
  {
   "cell_type": "code",
   "execution_count": 6,
   "metadata": {},
   "outputs": [
    {
     "data": {
      "text/plain": [
       "(array([3., 0., 0., 0., 1., 0., 0., 0., 0., 1.]),\n",
       " array([4. , 4.5, 5. , 5.5, 6. , 6.5, 7. , 7.5, 8. , 8.5, 9. ]),\n",
       " <a list of 10 Patch objects>)"
      ]
     },
     "execution_count": 6,
     "metadata": {},
     "output_type": "execute_result"
    },
    {
     "data": {
      "image/png": "[encoded data removed]",
      "text/plain": [
       "<Figure size 432x288 with 1 Axes>"
      ]
     },
     "metadata": {
      "needs_background": "light"
     },
     "output_type": "display_data"
    }
   ],
   "source": [
    "import numpy as np\n",
    "import matplotlib.pyplot as plt\n",
    "n, p =10, .5  # number of trials, probability of each trial\n",
    "s = np.random.binomial(n, p, 5) # result of 5 sets of 10 coin flips assigned to variable, s\n",
    "plt.hist(s) # plot a histogram of s"
   ]
  },
  {
   "cell_type": "markdown",
   "metadata": {},
   "source": [
    "In three of the sets of trials there were four successful outcomes; In one of the sets there were six successful outcomes and in the other set there were nine successful outcomes."
   ]
  },
  {
   "cell_type": "markdown",
   "metadata": {},
   "source": [
    "If I run the same trial 10000 times, I can see the binomial distribution approximates a normal distribution"
   ]
  },
  {
   "cell_type": "code",
   "execution_count": 2,
   "metadata": {},
   "outputs": [
    {
     "data": {
      "text/plain": [
       "(array([   8.,  110.,  412., 1144., 1991., 2546., 2063., 1221.,  401.,\n",
       "         104.]),\n",
       " array([ 0.,  1.,  2.,  3.,  4.,  5.,  6.,  7.,  8.,  9., 10.]),\n",
       " <a list of 10 Patch objects>)"
      ]
     },
     "execution_count": 2,
     "metadata": {},
     "output_type": "execute_result"
    },
    {
     "data": {
      "image/png": "[encoded data removed]",
      "text/plain": [
       "<Figure size 432x288 with 1 Axes>"
      ]
     },
     "metadata": {
      "needs_background": "light"
     },
     "output_type": "display_data"
    }
   ],
   "source": [
    "import numpy as np\n",
    "import matplotlib.pyplot as plt\n",
    "n, p =10, .5  # number of trials, probability of each trial\n",
    "s = np.random.binomial(n, p, 10000) # result of 10000 sets of 10 coin flips assigned to variable, s\n",
    "plt.hist(s) # plot a histogram of s"
   ]
  },
  {
   "cell_type": "markdown",
   "metadata": {},
   "source": [
    "### Uniforn Distribution"
   ]
  },
  {
   "cell_type": "markdown",
   "metadata": {},
   "source": [
    "Numpy.random.uniform draws samples from a uniform distribution. In a uniform distribution, all values that a random variable can take have an equal chance of occurring. In the following piece of code, 10 values are returned between 0 (inclusive) and 10 (exclusive). "
   ]
  },
  {
   "cell_type": "code",
   "execution_count": 3,
   "metadata": {},
   "outputs": [
    {
     "data": {
      "text/plain": [
       "(array([1., 0., 0., 1., 1., 0., 2., 1., 2., 2.]),\n",
       " array([0.13896886, 0.21754109, 0.29611331, 0.37468554, 0.45325777,\n",
       "        0.53183   , 0.61040223, 0.68897446, 0.76754669, 0.84611892,\n",
       "        0.92469115]),\n",
       " <a list of 10 Patch objects>)"
      ]
     },
     "execution_count": 3,
     "metadata": {},
     "output_type": "execute_result"
    },
    {
     "data": {
      "image/png": "[encoded data removed]",
      "text/plain": [
       "<Figure size 432x288 with 1 Axes>"
      ]
     },
     "metadata": {
      "needs_background": "light"
     },
     "output_type": "display_data"
    }
   ],
   "source": [
    "import numpy as np\n",
    "import matplotlib.pyplot as plt\n",
    "s = np.random.uniform(0,1,10) # draw 10 random numbers in a uniform distribution between 0 (inclusive) and 1 (exclusive) and assign to variable,s\n",
    "s # display values\n",
    "plt.hist(s) # show histogram of s"
   ]
  },
  {
   "cell_type": "markdown",
   "metadata": {},
   "source": [
    "The next plot shows how, for large sample sizes, the histogram has a distinctive rectangular shape."
   ]
  },
  {
   "cell_type": "code",
   "execution_count": 8,
   "metadata": {},
   "outputs": [
    {
     "data": {
      "text/plain": [
       "(array([1034.,  978., 1038., 1016., 1023., 1004., 1016.,  963.,  978.,\n",
       "         950.]),\n",
       " array([5.47262390e-05, 1.00045388e-01, 2.00036051e-01, 3.00026713e-01,\n",
       "        4.00017375e-01, 5.00008038e-01, 5.99998700e-01, 6.99989362e-01,\n",
       "        7.99980024e-01, 8.99970687e-01, 9.99961349e-01]),\n",
       " <a list of 10 Patch objects>)"
      ]
     },
     "execution_count": 8,
     "metadata": {},
     "output_type": "execute_result"
    },
    {
     "data": {
      "image/png": "[encoded data removed]",
      "text/plain": [
       "<Figure size 432x288 with 1 Axes>"
      ]
     },
     "metadata": {
      "needs_background": "light"
     },
     "output_type": "display_data"
    }
   ],
   "source": [
    "import numpy as np\n",
    "import matplotlib.pyplot as plt\n",
    "s = np.random.uniform(0,1,10000) # draw 10000 random numbers in a uniform distribution between 0 (inclusive) and 1 (exclusive) and assign to variable,s\n",
    "s # display values\n",
    "plt.hist(s) # show histogram of s"
   ]
  },
  {
   "cell_type": "markdown",
   "metadata": {},
   "source": [
    "### Normal Distribution"
   ]
  },
  {
   "cell_type": "code",
   "execution_count": null,
   "metadata": {},
   "outputs": [],
   "source": []
  },
  {
   "cell_type": "markdown",
   "metadata": {},
   "source": [
    "### Poisson Distribution"
   ]
  },
  {
   "cell_type": "code",
   "execution_count": null,
   "metadata": {},
   "outputs": [],
   "source": []
  },
  {
   "cell_type": "markdown",
   "metadata": {},
   "source": [
    "### Exponential Distribution"
   ]
  },
  {
   "cell_type": "code",
   "execution_count": null,
   "metadata": {},
   "outputs": [],
   "source": []
  },
  {
   "cell_type": "markdown",
   "metadata": {},
   "source": [
    "## 4. Seeds"
   ]
  },
  {
   "cell_type": "code",
   "execution_count": null,
   "metadata": {},
   "outputs": [],
   "source": []
  }
 ],
 "metadata": {
  "kernelspec": {
   "display_name": "Python 3",
   "language": "python",
   "name": "python3"
  },
  "language_info": {
   "codemirror_mode": {
    "name": "ipython",
    "version": 3
   },
   "file_extension": ".py",
   "mimetype": "text/x-python",
   "name": "python",
   "nbconvert_exporter": "python",
   "pygments_lexer": "ipython3",
   "version": "3.7.1"
  }
 },
 "nbformat": 4,
 "nbformat_minor": 2
}
