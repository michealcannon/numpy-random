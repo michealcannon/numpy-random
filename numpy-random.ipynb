{
 "cells": [
  {
   "cell_type": "markdown",
   "metadata": {},
   "source": [
    "# The numpy.random package"
   ]
  },
  {
   "cell_type": "markdown",
   "metadata": {},
   "source": [
    "## 1. Introduction to the package"
   ]
  },
  {
   "cell_type": "markdown",
   "metadata": {},
   "source": [
    "Numpy.random is a sub-package of numpy. It is used to generate pseudo-random numbers for use in simulations. \n",
    "Pseudo-random numbers are computer generated numbers that have properties that [approximate the properties of random numbers.](https://www.random.org/randomness/)"
   ]
  },
  {
   "cell_type": "markdown",
   "metadata": {},
   "source": [
    "## 2. Simple Random Data and Permutations"
   ]
  },
  {
   "cell_type": "markdown",
   "metadata": {},
   "source": [
    "### Simple Random Data"
   ]
  },
  {
   "cell_type": "markdown",
   "metadata": {},
   "source": [
    "Some simple functions in numpy.random return simple random data where all [floating point](https://www.geeksforgeeks.org/python-float-type-and-its-methods/) numbers between 0 and 1 (where 1 is excluded) are equally likely to be returned. The rand function, for example, will populate an array of your choosing with such numbers.\n",
    "\n",
    "Here's an example of a 3 x 4 array: "
   ]
  },
  {
   "cell_type": "code",
   "execution_count": 2,
   "metadata": {},
   "outputs": [
    {
     "data": {
      "text/plain": [
       "array([[0.10970468, 0.89647087, 0.64225601, 0.73669549],\n",
       "       [0.1274835 , 0.35639683, 0.53694048, 0.92064319],\n",
       "       [0.65897662, 0.23370229, 0.46586231, 0.13754468]])"
      ]
     },
     "execution_count": 2,
     "metadata": {},
     "output_type": "execute_result"
    }
   ],
   "source": [
    "import numpy as np ## import numpy package\n",
    "np.random.rand(3,4) ## generate 3 arrays each containing 4 random floats between 0 (inclusive) and 1(exclusive)"
   ]
  },
  {
   "cell_type": "markdown",
   "metadata": {},
   "source": [
    "The randint function on the other hand will return random integers in a specified interval from low(inclusive) to high (exclusive). The shape of the array can also be specified. \n",
    "\n",
    "Here's an example of a 2 x 6 array with values between 10 and 20 (exclusive)."
   ]
  },
  {
   "cell_type": "code",
   "execution_count": 1,
   "metadata": {},
   "outputs": [
    {
     "data": {
      "text/plain": [
       "array([[10, 15, 17, 13, 19, 11],\n",
       "       [14, 14, 18, 19, 11, 14]])"
      ]
     },
     "execution_count": 1,
     "metadata": {},
     "output_type": "execute_result"
    }
   ],
   "source": [
    "import numpy as np\n",
    "np.random.randint(10,20, size = (2,6)) ## generate 2 arrays each containing 6 random integers between 10 (inclusive) and 20 (exclusive)"
   ]
  },
  {
   "cell_type": "markdown",
   "metadata": {},
   "source": [
    "### Permutations"
   ]
  },
  {
   "cell_type": "markdown",
   "metadata": {},
   "source": [
    "There are two functions that randomly shuffle the contents of an array in a similar fashion.\n",
    "\n",
    "The shuffle function shuffles the contents of an array as follows:"
   ]
  },
  {
   "cell_type": "code",
   "execution_count": 3,
   "metadata": {},
   "outputs": [
    {
     "data": {
      "text/plain": [
       "[1, 3, 6, 8, 4, 9, 2, 7, 5]"
      ]
     },
     "execution_count": 3,
     "metadata": {},
     "output_type": "execute_result"
    }
   ],
   "source": [
    "import numpy as np\n",
    "arr = [1,2,3,4,5,6,7,8,9] ## create array containing integers sequenced 1-9 and assign to variable arr\n",
    "np.random.shuffle(arr) ## shuffle contents of arr\n",
    "arr ## display arr"
   ]
  },
  {
   "cell_type": "markdown",
   "metadata": {},
   "source": [
    "If an array contains a list of sub-arrays, only the list will be shuffled, not the contents \n",
    "of each individual array i.e. the first dimension of any multi-dimensional array will be shuffled."
   ]
  },
  {
   "cell_type": "code",
   "execution_count": 5,
   "metadata": {},
   "outputs": [
    {
     "data": {
      "text/plain": [
       "[[4, 5, 6], [7, 8, 9], [1, 2, 3]]"
      ]
     },
     "execution_count": 5,
     "metadata": {},
     "output_type": "execute_result"
    }
   ],
   "source": [
    "import numpy as np \n",
    "arr = [[1,2,3], [4,5,6], [7,8,9]] ## create 2-dimensional array and assign to variable arr\n",
    "np.random.shuffle(arr) ## shuffle contents of 1st dimension of arr\n",
    "arr  ## display shuffled array"
   ]
  },
  {
   "cell_type": "markdown",
   "metadata": {},
   "source": [
    "The permutation function returns a shuffled copy of the array. The shuffle function, however, changes the state of the array that is passed as an argument. We can see how permutation differs from shuffle in the next two pieces of code.  "
   ]
  },
  {
   "cell_type": "code",
   "execution_count": 6,
   "metadata": {},
   "outputs": [
    {
     "data": {
      "text/plain": [
       "array([[7, 8, 9],\n",
       "       [1, 2, 3],\n",
       "       [4, 5, 6]])"
      ]
     },
     "execution_count": 6,
     "metadata": {},
     "output_type": "execute_result"
    }
   ],
   "source": [
    "import numpy as np \n",
    "arr = [[1,2,3], [4,5,6], [7,8,9]] ## create 2-dimensional array and assign to variable arr\n",
    "np.random.permutation(arr) ## display shuffled copy of arr\n"
   ]
  },
  {
   "cell_type": "code",
   "execution_count": 7,
   "metadata": {},
   "outputs": [
    {
     "data": {
      "text/plain": [
       "[[1, 2, 3], [4, 5, 6], [7, 8, 9]]"
      ]
     },
     "execution_count": 7,
     "metadata": {},
     "output_type": "execute_result"
    }
   ],
   "source": [
    "import numpy as np \n",
    "arr = [[1,2,3], [4,5,6], [7,8,9]] ## create 2-dimensional array and assign to variable arr\n",
    "np.random.permutation(arr) ## make shuffled copy of arr\n",
    "arr  ## display unshuffled original array"
   ]
  },
  {
   "cell_type": "markdown",
   "metadata": {},
   "source": [
    "## 3. Five Distributions "
   ]
  },
  {
   "cell_type": "markdown",
   "metadata": {},
   "source": [
    "### Binomial Distribution"
   ]
  },
  {
   "cell_type": "markdown",
   "metadata": {},
   "source": [
    "A binomial experiment is an experiment that consists of a number of repeated trials that satisfy the following conditions;\n",
    "* There are only two possible outcomes, one of which is typically called the succesful outcome.\n",
    "* The probabilty of success(denoted by p) is the same for each trial.\n",
    "* The outcome of any one trial is not affected by the outcome of any others.\n",
    "An example of a binomial experiment is a coin flip; In this case p = 1/2 or 0.5.\n",
    "\n",
    "A binomial random variable is the number of successful outcomes in a given number of trials of a binomial experiment.  \n",
    "A binomial distribution is the probability distribution of a binomial random variable."
   ]
  },
  {
   "cell_type": "markdown",
   "metadata": {},
   "source": [
    "The binomial function in numpy.random draws samples from a binomial distribution.\n",
    "The following code simulates 10 coin tosses, where a successful outcome is obtaining a \"heads\" (or tails!)"
   ]
  },
  {
   "cell_type": "code",
   "execution_count": 4,
   "metadata": {},
   "outputs": [
    {
     "data": {
      "image/png": "[encoded data removed]",
      "text/plain": [
       "<Figure size 432x288 with 1 Axes>"
      ]
     },
     "metadata": {
      "needs_background": "light"
     },
     "output_type": "display_data"
    }
   ],
   "source": [
    "import numpy as np\n",
    "import matplotlib.pyplot as plt # import pyplot package from matplotlib as plt\n",
    "n, p = 10, .5  # n = number of trials, p = probability of each trial\n",
    "s = np.random.binomial(n, p,) # result of flipping a coin 10 times assigned to variable s\n",
    "plt.hist(s) # plot a histogram of s\n",
    "plt.show() # show plot"
   ]
  },
  {
   "cell_type": "markdown",
   "metadata": {},
   "source": [
    "In this case the trial had 6 successful outcomes."
   ]
  },
  {
   "cell_type": "markdown",
   "metadata": {},
   "source": [
    "The following code simulates 5 sets of 10 coin tosses "
   ]
  },
  {
   "cell_type": "code",
   "execution_count": 6,
   "metadata": {},
   "outputs": [
    {
     "data": {
      "text/plain": [
       "(array([3., 0., 0., 0., 1., 0., 0., 0., 0., 1.]),\n",
       " array([4. , 4.5, 5. , 5.5, 6. , 6.5, 7. , 7.5, 8. , 8.5, 9. ]),\n",
       " <a list of 10 Patch objects>)"
      ]
     },
     "execution_count": 6,
     "metadata": {},
     "output_type": "execute_result"
    },
    {
     "data": {
      "image/png": "[encoded data removed]",
      "text/plain": [
       "<Figure size 432x288 with 1 Axes>"
      ]
     },
     "metadata": {
      "needs_background": "light"
     },
     "output_type": "display_data"
    }
   ],
   "source": [
    "import numpy as np\n",
    "import matplotlib.pyplot as plt\n",
    "n, p =10, .5  # number of trials, probability of each trial\n",
    "s = np.random.binomial(n, p, 5) # result of 5 sets of 10 coin flips assigned to variable, s\n",
    "plt.hist(s) # plot a histogram of s"
   ]
  },
  {
   "cell_type": "markdown",
   "metadata": {},
   "source": [
    "In three of the sets of trials there were four successful outcomes; In one of the sets there were six successful outcomes and in the other set there were nine successful outcomes."
   ]
  },
  {
   "cell_type": "markdown",
   "metadata": {},
   "source": [
    "If I run the same trial 10000 times, I can see the binomial distribution approximates a normal distribution"
   ]
  },
  {
   "cell_type": "code",
   "execution_count": 2,
   "metadata": {},
   "outputs": [
    {
     "data": {
      "text/plain": [
       "(array([   8.,  110.,  412., 1144., 1991., 2546., 2063., 1221.,  401.,\n",
       "         104.]),\n",
       " array([ 0.,  1.,  2.,  3.,  4.,  5.,  6.,  7.,  8.,  9., 10.]),\n",
       " <a list of 10 Patch objects>)"
      ]
     },
     "execution_count": 2,
     "metadata": {},
     "output_type": "execute_result"
    },
    {
     "data": {
      "image/png": "[encoded data removed]",
      "text/plain": [
       "<Figure size 432x288 with 1 Axes>"
      ]
     },
     "metadata": {
      "needs_background": "light"
     },
     "output_type": "display_data"
    }
   ],
   "source": [
    "import numpy as np\n",
    "import matplotlib.pyplot as plt\n",
    "n, p =10, .5  # number of trials, probability of each trial\n",
    "s = np.random.binomial(n, p, 10000) # result of 10000 sets of 10 coin flips assigned to variable, s\n",
    "plt.hist(s) # plot a histogram of s"
   ]
  },
  {
   "cell_type": "markdown",
   "metadata": {},
   "source": [
    "### Uniform Distribution"
   ]
  },
  {
   "cell_type": "markdown",
   "metadata": {},
   "source": [
    "Numpy.random.uniform draws samples from a uniform distribution. In a uniform distribution, all values that a random variable can take have an equal chance of occurring. In the following piece of code, 10 values are returned between 0 (inclusive) and 1 (exclusive). "
   ]
  },
  {
   "cell_type": "code",
   "execution_count": 3,
   "metadata": {},
   "outputs": [
    {
     "data": {
      "text/plain": [
       "(array([1., 0., 0., 1., 1., 0., 2., 1., 2., 2.]),\n",
       " array([0.13896886, 0.21754109, 0.29611331, 0.37468554, 0.45325777,\n",
       "        0.53183   , 0.61040223, 0.68897446, 0.76754669, 0.84611892,\n",
       "        0.92469115]),\n",
       " <a list of 10 Patch objects>)"
      ]
     },
     "execution_count": 3,
     "metadata": {},
     "output_type": "execute_result"
    },
    {
     "data": {
      "image/png": "[encoded data removed]",
      "text/plain": [
       "<Figure size 432x288 with 1 Axes>"
      ]
     },
     "metadata": {
      "needs_background": "light"
     },
     "output_type": "display_data"
    }
   ],
   "source": [
    "import numpy as np\n",
    "import matplotlib.pyplot as plt\n",
    "s = np.random.uniform(0,1,10) # draw 10 random numbers in a uniform distribution between 0 (inclusive) and 1 (exclusive) and assign to variable,s\n",
    "s # display values\n",
    "plt.hist(s) # show histogram of s"
   ]
  },
  {
   "cell_type": "markdown",
   "metadata": {},
   "source": [
    "The next plot shows how, for large sample sizes, the histogram has a distinctive rectangular shape."
   ]
  },
  {
   "cell_type": "code",
   "execution_count": 8,
   "metadata": {},
   "outputs": [
    {
     "data": {
      "text/plain": [
       "(array([1034.,  978., 1038., 1016., 1023., 1004., 1016.,  963.,  978.,\n",
       "         950.]),\n",
       " array([5.47262390e-05, 1.00045388e-01, 2.00036051e-01, 3.00026713e-01,\n",
       "        4.00017375e-01, 5.00008038e-01, 5.99998700e-01, 6.99989362e-01,\n",
       "        7.99980024e-01, 8.99970687e-01, 9.99961349e-01]),\n",
       " <a list of 10 Patch objects>)"
      ]
     },
     "execution_count": 8,
     "metadata": {},
     "output_type": "execute_result"
    },
    {
     "data": {
      "image/png": "[encoded data removed]",
      "text/plain": [
       "<Figure size 432x288 with 1 Axes>"
      ]
     },
     "metadata": {
      "needs_background": "light"
     },
     "output_type": "display_data"
    }
   ],
   "source": [
    "import numpy as np\n",
    "import matplotlib.pyplot as plt\n",
    "s = np.random.uniform(0,1,10000) # draw 10000 random numbers in a uniform distribution between 0 (inclusive) and 1 (exclusive) and assign to variable,s\n",
    "s # display values\n",
    "plt.hist(s) # show histogram of s"
   ]
  },
  {
   "cell_type": "markdown",
   "metadata": {},
   "source": [
    "### Normal Distribution"
   ]
  },
  {
   "cell_type": "markdown",
   "metadata": {},
   "source": [
    "Numpy.random.normal draws samples from a normal distribution. In a normal distribution, most of the observations cluster symmetrically around a central value and are less likely to occur the further you get from this value. 50% of values are less than the mean and 50% are greater, so the mean is equal to the median. Many phenomema follow closely a normal distribution, such as heights of people and errors in measurement. The plot of normally distributed data is often informally called a bell curve, after its distinctive bell shape, given large sample sizes. The width of the \"bell\" can vary depending on a parameter called the \"standard deviation\", which is a measure of how far away from the mean the values tend to fall.\n",
    "![normal distribution with different standard deviations](normal_distribution.png)\n",
    "This is exemplified by the following two pieces of code. "
   ]
  },
  {
   "cell_type": "code",
   "execution_count": 19,
   "metadata": {},
   "outputs": [
    {
     "data": {
      "image/png": "[encoded data removed]",
      "text/plain": [
       "<Figure size 432x288 with 1 Axes>"
      ]
     },
     "metadata": {
      "needs_background": "light"
     },
     "output_type": "display_data"
    }
   ],
   "source": [
    "import numpy as np\n",
    "import matplotlib.pyplot as plt\n",
    "mu, sigma = 0, 0.3 # mean and standard deviation\n",
    "s = np.random.normal(mu, sigma, 10000) # draw 10000 numbers in a normal distribution with mean = 0, standard deviation = 0.3\n",
    "plt.hist(s) # plot histogram of data\n",
    "plt.xticks(np.arange(-4, 5, step=1)) # set x-axes labels between -4 and 5 in steps of 1 (from https://matplotlib.org/3.1.1/api/_as_gen/matplotlib.pyplot.xticks.html)\n",
    "plt.show() # show plot"
   ]
  },
  {
   "cell_type": "code",
   "execution_count": 17,
   "metadata": {},
   "outputs": [
    {
     "data": {
      "image/png": "[encoded data removed]",
      "text/plain": [
       "<Figure size 432x288 with 1 Axes>"
      ]
     },
     "metadata": {
      "needs_background": "light"
     },
     "output_type": "display_data"
    }
   ],
   "source": [
    "import numpy as np\n",
    "import matplotlib.pyplot as plt\n",
    "mu, sigma = 0, 1 # mean and standard deviation\n",
    "s = np.random.normal(mu, sigma, 10000) # draw 10000 numbers in a normal distribution with mean = 0, standard deviation = 1\n",
    "plt.hist(s) # plot histogram of data\n",
    "plt.show() # show plot"
   ]
  },
  {
   "cell_type": "markdown",
   "metadata": {},
   "source": [
    "### Poisson Distribution"
   ]
  },
  {
   "cell_type": "markdown",
   "metadata": {},
   "source": [
    "Numpy.random.poisson draws samples from the Poisson distribution. The Poisson distribution measures the probability of a number of events occurring in a certain time period, given the average number of times the event occurs over that time period. It should satisfy the following conditions:\n",
    "* the rate of occurence is constant\n",
    "* the events are independent of one another\n",
    "* two events cannot occur at the same time\n",
    "\n",
    "Examples of processes modelled with poisson distributions are: radioactive decay in atoms, number of cars passing a particular point in a given time interval, number of customers in a shop at a given time.\n"
   ]
  },
  {
   "cell_type": "code",
   "execution_count": 19,
   "metadata": {},
   "outputs": [
    {
     "data": {
      "text/plain": [
       "(array([ 14., 144., 295., 165., 218., 123.,  26.,  12.,   2.,   1.]),\n",
       " array([ 0. ,  1.7,  3.4,  5.1,  6.8,  8.5, 10.2, 11.9, 13.6, 15.3, 17. ]),\n",
       " <a list of 10 Patch objects>)"
      ]
     },
     "execution_count": 19,
     "metadata": {},
     "output_type": "execute_result"
    },
    {
     "data": {
      "image/png": "[encoded data removed]",
      "text/plain": [
       "<Figure size 432x288 with 1 Axes>"
      ]
     },
     "metadata": {
      "needs_background": "light"
     },
     "output_type": "display_data"
    }
   ],
   "source": [
    "import numpy as np\n",
    "import matplotlib.pyplot as plt\n",
    "s = np.random.poisson(6, 1000) # draw 1000 numbers from poisson distribution with average number of successes = 6; assign to variable s\n",
    "s # display array of drawn samples\n",
    "plt.hist(s) # display histogram of sample\n",
    "\n",
    "\n"
   ]
  },
  {
   "cell_type": "markdown",
   "metadata": {},
   "source": [
    "### Geometric Distribution"
   ]
  },
  {
   "cell_type": "markdown",
   "metadata": {},
   "source": [
    "Numpy.random.geometric draws samples from the geometric distribution. The geometric distribution can be defined in terms of a binomial experiment. We are conducting a binomial experiment if we flip a coin and count the number of heads.   \n",
    "If, however, we count the number of coin flips it takes to result in 2 or 3 (or any n) successes, we are conducting a negative binomial experiment.  \n",
    "The negative binomial variable is the number of coin flips required to achieve the given amount of successes.  \n",
    "The negative binomial distribution, is the probability distribution of the negative binomial variable.  \n",
    "The geometric distribution is a special case of the negative binomial distribution where we count the number of coin flips it takes to achieve just 1 success.   \n",
    "The function is illustrated in the following code which models 10 trials to achieve a success in a coin flip"
   ]
  },
  {
   "cell_type": "code",
   "execution_count": 8,
   "metadata": {},
   "outputs": [
    {
     "data": {
      "image/png": "[encoded data removed]",
      "text/plain": [
       "<Figure size 432x288 with 1 Axes>"
      ]
     },
     "metadata": {
      "needs_background": "light"
     },
     "output_type": "display_data"
    }
   ],
   "source": [
    "import numpy as np\n",
    "import matplotlib.pyplot as plt\n",
    "z = np.random.geometric(p=0.5, size=10) #draw samples from geometric distribution with probability 0.5 and size = 10 and assign to variable z\n",
    "plt.hist(z) # plot histogram of z\n",
    "plt.show() # show plot"
   ]
  },
  {
   "cell_type": "markdown",
   "metadata": {},
   "source": [
    " You can see from the plot that four of these trials resulted in a success on the first roll, three not until the second roll, two on the fourth and one on the sixth."
   ]
  },
  {
   "cell_type": "markdown",
   "metadata": {},
   "source": [
    "The next piece of code models a set of 10000 negative binomial experiments where the probability of success on each attempt is 0.8"
   ]
  },
  {
   "cell_type": "code",
   "execution_count": 6,
   "metadata": {},
   "outputs": [
    {
     "data": {
      "image/png": "[encoded data removed]",
      "text/plain": [
       "<Figure size 432x288 with 1 Axes>"
      ]
     },
     "metadata": {
      "needs_background": "light"
     },
     "output_type": "display_data"
    }
   ],
   "source": [
    "import numpy as np\n",
    "import matplotlib.pyplot as plt\n",
    "z = np.random.geometric(p=0.8, size=10000) #draw samples from geometric distribution with probability 0.8 and size = 10000 and assign to variable z\n",
    "plt.hist(z) # plot histogram of z\n",
    "plt.show() # show plot"
   ]
  },
  {
   "cell_type": "markdown",
   "metadata": {},
   "source": [
    "We can see in this case, because of the high probability of success, that around 8000 of the 10000 trials achieved success on the first attempt. The shape of the plot is typical for a geometric distribution with large sample size."
   ]
  },
  {
   "cell_type": "markdown",
   "metadata": {},
   "source": [
    "## 4. Seeds"
   ]
  },
  {
   "cell_type": "markdown",
   "metadata": {},
   "source": [
    "As discussed in the introduction, the numbers generated by the functions in numpy.random are pseudo-random numbers i.e. they are numbers that approximate the properties of random numbers.  The numbers are predetermined, which means that they can be reproduced at a later time if needed. They are also periodic, so the sequence will repeat itself given enough time. A pseudo random number generator uses mathematical formulas to produce its sequence of numbers. A seed is a number used as a starting point for this formula. The numbers are then generated from this starting point. Crucially, if the generator is restarted using the same seed, it will produce the same sequence of numbers. Typically, the seed comes from the time on the computer when the code is run."
   ]
  },
  {
   "cell_type": "markdown",
   "metadata": {},
   "source": [
    "The following code seeds the generator with a particular number. Calling the rand function returns an array of random numbers."
   ]
  },
  {
   "cell_type": "code",
   "execution_count": 5,
   "metadata": {},
   "outputs": [
    {
     "data": {
      "text/plain": [
       "array([0.77132064, 0.02075195, 0.63364823, 0.74880388, 0.49850701])"
      ]
     },
     "execution_count": 5,
     "metadata": {},
     "output_type": "execute_result"
    }
   ],
   "source": [
    "import numpy as np\n",
    "np.random.seed(10) # seed the generator with number, 10\n",
    "np.random.rand(5) # return array of 5 random numbers\n"
   ]
  },
  {
   "cell_type": "markdown",
   "metadata": {},
   "source": [
    "Calling the same function after seeding with a different number produces a different array."
   ]
  },
  {
   "cell_type": "code",
   "execution_count": 6,
   "metadata": {},
   "outputs": [
    {
     "data": {
      "text/plain": [
       "array([0.01037415, 0.50187459, 0.49577329, 0.13382953, 0.14211109])"
      ]
     },
     "execution_count": 6,
     "metadata": {},
     "output_type": "execute_result"
    }
   ],
   "source": [
    "import numpy as np\n",
    "np.random.seed(9) # seed generator with number, 9\n",
    "np.random.rand(5) # return array of 5 random numbers"
   ]
  },
  {
   "cell_type": "markdown",
   "metadata": {},
   "source": [
    "Now returning to the original seed produces the exact same random numbers as before."
   ]
  },
  {
   "cell_type": "code",
   "execution_count": 7,
   "metadata": {},
   "outputs": [
    {
     "data": {
      "text/plain": [
       "array([0.77132064, 0.02075195, 0.63364823, 0.74880388, 0.49850701])"
      ]
     },
     "execution_count": 7,
     "metadata": {},
     "output_type": "execute_result"
    }
   ],
   "source": [
    "import numpy as np\n",
    "np.random.seed(10)\n",
    "np.random.rand(5)"
   ]
  },
  {
   "cell_type": "markdown",
   "metadata": {},
   "source": [
    "# References:"
   ]
  },
  {
   "cell_type": "markdown",
   "metadata": {},
   "source": [
    "### Introduction\n",
    "(https://www.random.org/randomness/)\n",
    "\n",
    "### Simple Random Data\n",
    "(https://www.geeksforgeeks.org/python-float-type-and-its-methods/)\n",
    "\n",
    "### Binomial Distribution\n",
    "(https://stattrek.com/probability-distributions/binomial.aspx)\n",
    "\n",
    "### Uniform Distribution\n",
    "(https://stattrek.com/statistics/dictionary.aspx?definition=uniform_distribution)\n",
    "\n",
    "### Normal Distribution\n",
    "(https://statisticsbyjim.com/basics/normal-distribution/)\n",
    "\n",
    "### Poisson Distribution\n",
    "(https://brilliant.org/wiki/poisson-distribution/)  \n",
    "(https://towardsdatascience.com/the-poisson-distribution-and-poisson-process-explained-4e2cb17d459)\n",
    "\n",
    "### Geometric Distribution\n",
    "(https://stattrek.com/statistics/dictionary.aspx?definition=geometric_distribution)  \n",
    "(https://stattrek.com/statistics/dictionary.aspx?definition=negative%20binomial%20distribution)\n",
    "\n",
    "### Seeds\n",
    "(https://www.geeksforgeeks.org/pseudo-random-number-generator-)\n",
    "\n",
    "### Also\n",
    "(https://docs.scipy.org/doc/numpy-1.15.1/reference/routines.random.html)  \n",
    "(https://stackoverflow.com/questions/10628262/inserting-image-into-ipython-notebook-markdown)\n",
    "\n"
   ]
  }
 ],
 "metadata": {
  "kernelspec": {
   "display_name": "Python 3",
   "language": "python",
   "name": "python3"
  },
  "language_info": {
   "codemirror_mode": {
    "name": "ipython",
    "version": 3
   },
   "file_extension": ".py",
   "mimetype": "text/x-python",
   "name": "python",
   "nbconvert_exporter": "python",
   "pygments_lexer": "ipython3",
   "version": "3.7.1"
  }
 },
 "nbformat": 4,
 "nbformat_minor": 2
}
